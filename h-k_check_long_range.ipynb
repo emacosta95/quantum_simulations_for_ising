{
 "cells": [
  {
   "attachments": {},
   "cell_type": "markdown",
   "metadata": {},
   "source": [
    "## H-K mapping analysis in the Long range Setting"
   ]
  },
  {
   "attachments": {},
   "cell_type": "markdown",
   "metadata": {},
   "source": [
    "Study the condition for a well defined one-to-one h-k map in a long range ising chain with disorder external field"
   ]
  },
  {
   "attachments": {},
   "cell_type": "markdown",
   "metadata": {},
   "source": [
    "#### Imports"
   ]
  },
  {
   "cell_type": "code",
   "execution_count": 1,
   "metadata": {},
   "outputs": [],
   "source": [
    "from src.utils_sparse_diag import adj_generator,ising_coupling,ising_external_field,get_gs,functional_f,compute_magnetization,compute_correlation\n",
    "from typing import List,Tuple\n",
    "import matplotlib.pyplot as plt\n",
    "import quspin\n",
    "from quspin.basis import spin_basis_1d\n",
    "import numpy as np\n",
    "from tqdm import trange"
   ]
  },
  {
   "attachments": {},
   "cell_type": "markdown",
   "metadata": {},
   "source": [
    "#### Define the universal Hamiltonian"
   ]
  },
  {
   "cell_type": "code",
   "execution_count": 2,
   "metadata": {},
   "outputs": [],
   "source": [
    "class LongRange():\n",
    "    def __init__(self,alpha:int,j0:float) -> None:\n",
    "        self.alpha=alpha\n",
    "        self.j0=j0\n",
    "\n",
    "    def long_range(self,i:int,l:int)->Tuple[List[int],List[float]]:\n",
    "        jdx=[]\n",
    "        values=[]\n",
    "        for j in range(l):\n",
    "            jdx.append((j+i)%l) #append the pbc index\n",
    "            # the traslational invariance leads to a i-independent relation\n",
    "            if j==0:\n",
    "                values.append(self.j0/(l**self.alpha))\n",
    "            else:\n",
    "                values.append(self.j0/((l+j)**self.alpha)+self.j0/((j)**self.alpha))\n",
    "        return jdx,values\n",
    "\n",
    "\n",
    "l=12\n",
    "ndata=100\n",
    "alpha=4\n",
    "j0=1.\n",
    "hpoints=10\n",
    "hmax=np.linspace(0.1,5,hpoints)"
   ]
  },
  {
   "attachments": {},
   "cell_type": "markdown",
   "metadata": {},
   "source": [
    "#### Implement the external field"
   ]
  },
  {
   "cell_type": "code",
   "execution_count": 5,
   "metadata": {},
   "outputs": [
    {
     "name": "stderr",
     "output_type": "stream",
     "text": [
      "100%|██████████| 100/100 [00:15<00:00,  6.29it/s]\n",
      " 19%|█▉        | 19/100 [00:03<00:16,  4.82it/s]"
     ]
    }
   ],
   "source": [
    "longrange=LongRange(alpha=alpha,j0=j0)\n",
    "adj=adj_generator(l=l,f=longrange.long_range)\n",
    "\n",
    "ham0,f=ising_coupling(adj=adj,l=l,basis=spin_basis_1d(l),direction='zz')\n",
    "\n",
    "ms:np.ndarray=np.zeros((hpoints,ndata,l,l))\n",
    "for j,h in enumerate(hmax):\n",
    "    hs=np.random.uniform(0,h,size=(ndata,l))\n",
    "    for i in trange(ndata):\n",
    "        vx=ising_external_field(h=hs[i],l=l,basis=spin_basis_1d(l),direction='x')\n",
    "        ham=ham0+vx\n",
    "        e,psi=get_gs(ham=ham,eightype='Std',basis=spin_basis_1d(l))\n",
    "        e=e/l    \n",
    "        x=compute_magnetization(psi=psi,l=l,basis=spin_basis_1d(l),direction='x')\n",
    "        x=np.asarray(x)\n",
    "        xx=compute_correlation(psi=psi, l=l, basis=spin_basis_1d(l), direction='xx')\n",
    "        xx=np.asarray(xx)\n",
    "        ms[j,i]=xx-x[None,:]*x[:,None]\n",
    "        \n",
    "    \n"
   ]
  }
 ],
 "metadata": {
  "kernelspec": {
   "display_name": "dft_env",
   "language": "python",
   "name": "python3"
  },
  "language_info": {
   "codemirror_mode": {
    "name": "ipython",
    "version": 3
   },
   "file_extension": ".py",
   "mimetype": "text/x-python",
   "name": "python",
   "nbconvert_exporter": "python",
   "pygments_lexer": "ipython3",
   "version": "3.9.7"
  },
  "orig_nbformat": 4,
  "vscode": {
   "interpreter": {
    "hash": "3416549d97ad3983cc214976bd6ebb80476d6adba7fb7d54f1e9017c835c1c82"
   }
  }
 },
 "nbformat": 4,
 "nbformat_minor": 2
}
