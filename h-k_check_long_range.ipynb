{
 "cells": [
  {
   "attachments": {},
   "cell_type": "markdown",
   "metadata": {},
   "source": [
    "## H-K mapping analysis in the Long range Setting"
   ]
  },
  {
   "attachments": {},
   "cell_type": "markdown",
   "metadata": {},
   "source": [
    "Study the condition for a well defined one-to-one h-k map in a long range ising chain with disorder external field"
   ]
  },
  {
   "attachments": {},
   "cell_type": "markdown",
   "metadata": {},
   "source": [
    "#### Imports"
   ]
  },
  {
   "cell_type": "code",
   "execution_count": 1,
   "metadata": {},
   "outputs": [],
   "source": [
    "from src.utils_sparse_diag import adj_generator,ising_coupling,ising_external_field,get_gs,functional_f,compute_magnetization,compute_correlation\n",
    "from typing import List,Tuple\n",
    "import matplotlib.pyplot as plt\n",
    "import quspin\n",
    "from quspin.basis import spin_basis_1d\n",
    "import numpy as np\n",
    "from tqdm import trange"
   ]
  },
  {
   "attachments": {},
   "cell_type": "markdown",
   "metadata": {},
   "source": [
    "#### Define the universal Hamiltonian"
   ]
  },
  {
   "cell_type": "code",
   "execution_count": 8,
   "metadata": {},
   "outputs": [],
   "source": [
    "class LongRange():\n",
    "    def __init__(self,alpha:int,j0:float) -> None:\n",
    "        self.alpha=alpha\n",
    "        self.j0=j0\n",
    "\n",
    "    def long_range(self,i:int,l:int)->Tuple[List[int],List[float]]:\n",
    "        jdx=[]\n",
    "        values=[]\n",
    "        for j in range(-int(l/2),int(l/2)):\n",
    "            jdx.append((j+i)%l) #append the pbc index\n",
    "            # the traslational invariance leads to a i-independent relation\n",
    "            if j==0:\n",
    "                values.append(0.5*self.j0/((np.abs(j-l))**self.alpha)+0.5*self.j0/((np.abs(j+l))**self.alpha)+0.5*self.j0/((np.abs(j+2*l))**self.alpha)+0.5*self.j0/((np.abs(j-2*l))**self.alpha))\n",
    "            else:\n",
    "                values.append(0.5*self.j0/((np.abs(j))**self.alpha)+0.5*self.j0/((np.abs(j-l))**self.alpha)+0.5*self.j0/((np.abs(j+l))**self.alpha)+0.5*self.j0/((np.abs(j+2*l))**self.alpha)+0.5*self.j0/((np.abs(j-2*l))**self.alpha))\n",
    "        return jdx,values\n",
    "\n",
    "\n",
    "\n",
    "l=10\n",
    "ndata=100\n",
    "alpha=4\n",
    "j0=1.\n",
    "hpoints=20\n",
    "hmax=np.linspace(0.1,5,hpoints)"
   ]
  },
  {
   "attachments": {},
   "cell_type": "markdown",
   "metadata": {},
   "source": [
    "#### Implement the external field"
   ]
  },
  {
   "cell_type": "code",
   "execution_count": 9,
   "metadata": {},
   "outputs": [
    {
     "name": "stderr",
     "output_type": "stream",
     "text": [
      "100%|██████████| 100/100 [00:08<00:00, 12.31it/s]\n",
      "100%|██████████| 100/100 [00:08<00:00, 11.52it/s]\n",
      "100%|██████████| 100/100 [00:08<00:00, 12.49it/s]\n",
      "100%|██████████| 100/100 [00:07<00:00, 13.39it/s]\n",
      "100%|██████████| 100/100 [00:08<00:00, 11.21it/s]\n",
      "100%|██████████| 100/100 [00:08<00:00, 12.44it/s]\n",
      "100%|██████████| 100/100 [00:09<00:00, 10.11it/s]\n",
      "100%|██████████| 100/100 [00:07<00:00, 13.14it/s]\n",
      "100%|██████████| 100/100 [00:09<00:00, 11.05it/s]\n",
      "100%|██████████| 100/100 [00:07<00:00, 12.64it/s]\n",
      "100%|██████████| 100/100 [00:09<00:00, 10.21it/s]\n",
      "100%|██████████| 100/100 [00:08<00:00, 11.21it/s]\n",
      "100%|██████████| 100/100 [00:10<00:00,  9.22it/s]\n",
      "100%|██████████| 100/100 [00:11<00:00,  8.76it/s]\n",
      "100%|██████████| 100/100 [00:12<00:00,  8.04it/s]\n",
      "100%|██████████| 100/100 [00:11<00:00,  8.55it/s]\n",
      "100%|██████████| 100/100 [00:09<00:00, 10.34it/s]\n",
      "100%|██████████| 100/100 [00:08<00:00, 11.46it/s]\n",
      "100%|██████████| 100/100 [00:10<00:00,  9.56it/s]\n",
      "100%|██████████| 100/100 [00:10<00:00,  9.81it/s]\n"
     ]
    }
   ],
   "source": [
    "longrange=LongRange(alpha=alpha,j0=j0)\n",
    "adj=adj_generator(l=l,f=longrange.long_range)\n",
    "\n",
    "ham0,f=ising_coupling(adj=adj,l=l,basis=spin_basis_1d(l),direction='zz')\n",
    "\n",
    "ms:np.ndarray=np.zeros((hpoints,ndata,l,l))\n",
    "for j,h in enumerate(hmax):\n",
    "    hs=np.random.uniform(0,h,size=(ndata,l))\n",
    "    for i in trange(ndata):\n",
    "        vx=ising_external_field(h=hs[i],l=l,basis=spin_basis_1d(l),direction='x')\n",
    "        ham=ham0+vx\n",
    "        e,psi=get_gs(ham=ham,eightype='Std',basis=spin_basis_1d(l),lanczos_dim=100)\n",
    "        e=e/l    \n",
    "        x=compute_magnetization(psi=psi,l=l,basis=spin_basis_1d(l),direction='x')\n",
    "        x=np.asarray(x)\n",
    "        xx=compute_correlation(psi=psi, l=l, basis=spin_basis_1d(l), direction='xx')\n",
    "        xx=np.asarray(xx)\n",
    "        ms[j,i]=xx-x[None,:]*x[:,None]\n",
    "        \n",
    "    \n"
   ]
  },
  {
   "attachments": {},
   "cell_type": "markdown",
   "metadata": {},
   "source": [
    "## Average of the minimum eigenvalues"
   ]
  },
  {
   "cell_type": "code",
   "execution_count": 10,
   "metadata": {},
   "outputs": [
    {
     "name": "stdout",
     "output_type": "stream",
     "text": [
      "(20, 100, 10)\n"
     ]
    }
   ],
   "source": [
    "l,_=np.linalg.eigh(ms)\n",
    "print(l.shape)\n",
    "l=np.abs(l)\n",
    "l_min=np.min(l,axis=-1)\n",
    "l_min_av=np.average(l_min,axis=1)\n",
    "\n",
    "    "
   ]
  },
  {
   "cell_type": "code",
   "execution_count": 11,
   "metadata": {},
   "outputs": [
    {
     "data": {
      "text/plain": [
       "[<matplotlib.lines.Line2D at 0x7f6a907292e0>]"
      ]
     },
     "execution_count": 11,
     "metadata": {},
     "output_type": "execute_result"
    },
    {
     "data": {
      "image/png": "[encoded data removed]",
      "text/plain": [
       "<Figure size 432x288 with 1 Axes>"
      ]
     },
     "metadata": {
      "needs_background": "light"
     },
     "output_type": "display_data"
    }
   ],
   "source": [
    "plt.plot(hmax,l_min_av)"
   ]
  }
 ],
 "metadata": {
  "kernelspec": {
   "display_name": "dft_env",
   "language": "python",
   "name": "python3"
  },
  "language_info": {
   "codemirror_mode": {
    "name": "ipython",
    "version": 3
   },
   "file_extension": ".py",
   "mimetype": "text/x-python",
   "name": "python",
   "nbconvert_exporter": "python",
   "pygments_lexer": "ipython3",
   "version": "3.9.7"
  },
  "orig_nbformat": 4,
  "vscode": {
   "interpreter": {
    "hash": "3416549d97ad3983cc214976bd6ebb80476d6adba7fb7d54f1e9017c835c1c82"
   }
  }
 },
 "nbformat": 4,
 "nbformat_minor": 2
}
