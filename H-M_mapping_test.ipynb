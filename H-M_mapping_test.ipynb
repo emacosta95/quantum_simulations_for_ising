{
 "cells": [
  {
   "cell_type": "markdown",
   "metadata": {},
   "source": [
    "# Study the condition for the Hohnenberg-Kohn Mapping in a 1nn (2nn) Transverse Ising model"
   ]
  },
  {
   "cell_type": "markdown",
   "metadata": {},
   "source": [
    "## Case a) 1nn Transverse Ising Model"
   ]
  },
  {
   "cell_type": "markdown",
   "metadata": {},
   "source": [
    "The Hamiltonian is \n",
    "\n",
    "$H=J\\sum_i x_i x_{i+1} + \\sum_i h_i z_i + \\epsilon \\sum_i x_i  \\; \\; \\text{with} \\; \\; \\epsilon=10^{-2} J \\; \\; \\text{,} \\; \\; J<0 \\; \\; \\text{and}  \\; \\; h_i \\in [0,h_{max}]$"
   ]
  },
  {
   "cell_type": "code",
   "execution_count": null,
   "metadata": {},
   "outputs": [],
   "source": []
  }
 ],
 "metadata": {
  "language_info": {
   "name": "python"
  },
  "orig_nbformat": 4
 },
 "nbformat": 4,
 "nbformat_minor": 2
}
